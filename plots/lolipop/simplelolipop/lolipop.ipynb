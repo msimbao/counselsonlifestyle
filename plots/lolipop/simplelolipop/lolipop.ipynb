{
 "cells": [
  {
   "cell_type": "code",
   "execution_count": 2,
   "metadata": {},
   "outputs": [
    {
     "name": "stderr",
     "output_type": "stream",
     "text": [
      "/home/mphatsosimbao/.local/lib/python3.12/site-packages/matplotlib/projections/__init__.py:63: UserWarning: Unable to import Axes3D. This may be due to multiple versions of Matplotlib being installed (e.g. as a system package and as a pip package). As a result, the 3D projection is not available.\n",
      "  warnings.warn(\"Unable to import Axes3D. This may be due to multiple versions of \"\n"
     ]
    }
   ],
   "source": [
    "import matplotlib.pyplot as plt\n",
    "import numpy as np\n",
    "import seaborn as sns\n"
   ]
  },
  {
   "cell_type": "code",
   "execution_count": 17,
   "metadata": {},
   "outputs": [
    {
     "data": {
      "image/png": "[encoded data removed]",
      "text/plain": [
       "<Figure size 640x480 with 1 Axes>"
      ]
     },
     "metadata": {},
     "output_type": "display_data"
    }
   ],
   "source": [
    "\n",
    "x=['Nuts & Seeds','Grains','Meat']\n",
    "\n",
    "#LFV means legumes fruits and vegetables\n",
    "\n",
    "y=[0.60,0.89,1.61]\n",
    "y.sort()\n",
    "\n",
    "fig, ax = plt.subplots()\n",
    "\n",
    "# plt.stem(x, y, markerfmt = 'o', linefmt='-', basefmt = '-', orientation=\"horizontal\", bottom=1)\n",
    "\n",
    "(markers, stemlines, baseline) = plt.stem(x, y, markerfmt = 'o', linefmt='-', basefmt = '--', orientation=\"horizontal\", bottom=1)\n",
    "plt.setp(markers, marker='.', markersize=15, markeredgecolor=\"salmon\", markeredgewidth=2, color=\"salmon\")\n",
    "plt.setp(stemlines, linestyle=\"-\", linewidth=6.5, color=\"salmon\")\n",
    "plt.setp(baseline, linestyle=\"-\", color=\"dimgrey\", linewidth=2)\n",
    "\n",
    "# plt.show()\n",
    "\n",
    "sns.set_theme(style=\"white\", palette=\"Pastel1\")\n",
    "# ax.set_title(\"Coronary Heart Disease Risk in Women by Protein Consumed\")\n",
    "ax.minorticks_off()\n",
    "ax.set_axis_off()\n",
    "# ax.set_xticks([0.6,0.8,1.0,1.2,1.4])\n",
    "# ax.set_xticklabels(x)\n",
    "plt.show()\n"
   ]
  }
 ],
 "metadata": {
  "kernelspec": {
   "display_name": "Python 3",
   "language": "python",
   "name": "python3"
  },
  "language_info": {
   "codemirror_mode": {
    "name": "ipython",
    "version": 3
   },
   "file_extension": ".py",
   "mimetype": "text/x-python",
   "name": "python",
   "nbconvert_exporter": "python",
   "pygments_lexer": "ipython3",
   "version": "3.12.4"
  }
 },
 "nbformat": 4,
 "nbformat_minor": 2
}
